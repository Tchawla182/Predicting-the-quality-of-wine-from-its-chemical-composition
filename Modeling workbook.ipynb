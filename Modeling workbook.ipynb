{
 "cells": [
  {
   "cell_type": "code",
   "execution_count": 2,
   "id": "544dbf37",
   "metadata": {},
   "outputs": [],
   "source": [
    "import numpy as np \n",
    "import pandas as pd \n",
    "import scipy.stats as ss\n",
    "import matplotlib.pyplot as plt \n",
    "import seaborn as sns # For all our visualization needs.\n",
    "#import statsmodels.api as sm # What does this do? Find out and type here.\n",
    "#from statsmodels.graphics.api import abline_plot # What does this do? Find out and type here.\n",
    "from sklearn.metrics import mean_squared_error, r2_score # What does this do? Find out and type here.\n",
    "from sklearn.model_selection import train_test_split #  What does this do? Find out and type here.\n",
    "from sklearn import linear_model, preprocessing # What does this do? Find out and type here.\n",
    "from sklearn.ensemble import RandomForestRegressor\n",
    "from sklearn.inspection import permutation_importance\n",
    "from sklearn.model_selection import train_test_split\n",
    "import numpy as np\n",
    "from sklearn.feature_extraction.text import CountVectorizer\n",
    "from sklearn.naive_bayes import MultinomialNB\n",
    "from sklearn import metrics\n",
    "from sklearn.metrics import classification_report\n",
    "from sklearn.model_selection import GridSearchCV\n",
    "from sklearn.linear_model import LogisticRegression\n",
    "from sklearn.metrics import accuracy_score\n",
    "from sklearn.svm import SVC\n",
    "from sklearn.ensemble import RandomForestClassifier\n",
    "from sklearn.svm import LinearSVC\n",
    "from sklearn.metrics import roc_auc_score\n",
    "from sklearn.metrics import roc_curve\n",
    "import matplotlib.pyplot as plt\n",
    "from sklearn.metrics import recall_score\n",
    "from sklearn.metrics import fbeta_score\n",
    "from sklearn.metrics import f1_score\n",
    "from sklearn.metrics import precision_score\n",
    "from sklearn.metrics import confusion_matrix as confusion_matrix\n",
    "import pandas as pd\n",
    "from sklearn.metrics import precision_recall_curve\n",
    "from sklearn.metrics import plot_precision_recall_curve\n",
    "from sklearn.metrics import average_precision_score\n",
    "plt.style.use(\"ggplot\")\n",
    "import warnings; warnings.simplefilter('ignore')\n",
    "from sklearn.linear_model import LogisticRegressionCV\n",
    "import seaborn as sns; sns.set()\n",
    "import matplotlib.pyplot as plt\n",
    "from sklearn.metrics import f1_score\n",
    "from sklearn.metrics import accuracy_score\n",
    "from sklearn.metrics import balanced_accuracy_score\n",
    "from sklearn.metrics import accuracy_score\n",
    "from sklearn.neighbors import KNeighborsClassifier\n",
    "\n",
    "\n",
    "import warnings # For handling error messages.\n",
    "# Don't worry about the following two instructions: they just suppress warnings that could occur later. \n",
    "warnings.simplefilter(action=\"ignore\", category=FutureWarning)\n",
    "warnings.filterwarnings(action=\"ignore\", module=\"scipy\", message=\"^internal gelsd\")"
   ]
  },
  {
   "cell_type": "code",
   "execution_count": 2,
   "id": "6396904a",
   "metadata": {},
   "outputs": [
    {
     "name": "stdout",
     "output_type": "stream",
     "text": [
      "Requirement already satisfied: imbalanced-learn in c:\\tanuj\\lib\\site-packages (0.9.1)Note: you may need to restart the kernel to use updated packages.\n",
      "Requirement already satisfied: threadpoolctl>=2.0.0 in c:\\tanuj\\lib\\site-packages (from imbalanced-learn) (2.1.0)\n",
      "Requirement already satisfied: joblib>=1.0.0 in c:\\tanuj\\lib\\site-packages (from imbalanced-learn) (1.0.1)\n",
      "Requirement already satisfied: numpy>=1.17.3 in c:\\tanuj\\lib\\site-packages (from imbalanced-learn) (1.20.1)\n",
      "Requirement already satisfied: scipy>=1.3.2 in c:\\tanuj\\lib\\site-packages (from imbalanced-learn) (1.8.1)\n",
      "Requirement already satisfied: scikit-learn>=1.1.0 in c:\\tanuj\\lib\\site-packages (from imbalanced-learn) (1.1.2)\n",
      "\n"
     ]
    }
   ],
   "source": [
    "pip install imbalanced-learn"
   ]
  },
  {
   "cell_type": "code",
   "execution_count": 3,
   "id": "0af95589",
   "metadata": {},
   "outputs": [
    {
     "name": "stdout",
     "output_type": "stream",
     "text": [
      "0.9.1\n"
     ]
    }
   ],
   "source": [
    "import imblearn\n",
    "print(imblearn.__version__)"
   ]
  },
  {
   "cell_type": "code",
   "execution_count": 4,
   "id": "95878d53",
   "metadata": {},
   "outputs": [],
   "source": [
    "red_wine = pd.read_csv('winequality-red.csv', sep=\",\")"
   ]
  },
  {
   "cell_type": "code",
   "execution_count": 5,
   "id": "187ff585",
   "metadata": {},
   "outputs": [
    {
     "name": "stdout",
     "output_type": "stream",
     "text": [
      "   fixed acidity  volatile acidity  citric acid  residual sugar  chlorides  \\\n",
      "0      -0.528360          0.961877    -1.391472       -0.453218  -0.243707   \n",
      "1      -0.298547          1.967442    -1.391472        0.043416   0.223875   \n",
      "2      -0.298547          1.297065    -1.186070       -0.169427   0.096353   \n",
      "3       1.654856         -1.384443     1.484154       -0.453218  -0.264960   \n",
      "4      -0.528360          0.961877    -1.391472       -0.453218  -0.243707   \n",
      "\n",
      "   free sulfur dioxide  total sulfur dioxide   density        pH  sulphates  \\\n",
      "0            -0.466193             -0.379133  0.558274  1.288643  -0.579207   \n",
      "1             0.872638              0.624363  0.028261 -0.719933   0.128950   \n",
      "2            -0.083669              0.229047  0.134264 -0.331177  -0.048089   \n",
      "3             0.107592              0.411500  0.664277 -0.979104  -0.461180   \n",
      "4            -0.466193             -0.379133  0.558274  1.288643  -0.579207   \n",
      "\n",
      "    alcohol   quality  \n",
      "0 -0.960246 -0.787823  \n",
      "1 -0.584777 -0.787823  \n",
      "2 -0.584777 -0.787823  \n",
      "3 -0.584777  0.450848  \n",
      "4 -0.960246 -0.787823  \n"
     ]
    }
   ],
   "source": [
    "from sklearn.preprocessing import MinMaxScaler\n",
    "scaler = preprocessing.StandardScaler()\n",
    "# Fitting data to the scaler object\n",
    "scaled_red_wine = scaler.fit_transform(red_wine)\n",
    "scaled_red_wine = pd.DataFrame(scaled_red_wine, columns=red_wine.columns) \n",
    "\n",
    "print(scaled_red_wine.head())"
   ]
  },
  {
   "cell_type": "code",
   "execution_count": 6,
   "id": "fbe545d6",
   "metadata": {},
   "outputs": [
    {
     "data": {
      "text/plain": [
       "[Text(0.5, 1.0, 'Red wine')]"
      ]
     },
     "execution_count": 6,
     "metadata": {},
     "output_type": "execute_result"
    },
    {
     "data": {
      "image/png": "[encoded data removed]",
      "text/plain": [
       "<Figure size 432x288 with 1 Axes>"
      ]
     },
     "metadata": {},
     "output_type": "display_data"
    }
   ],
   "source": [
    "sns.countplot(data=red_wine, x=\"quality\", color = 'red').set(title= \"Red wine\")"
   ]
  },
  {
   "cell_type": "code",
   "execution_count": 7,
   "id": "4c097c0e",
   "metadata": {},
   "outputs": [
    {
     "data": {
      "text/plain": [
       "5    681\n",
       "6    638\n",
       "7    199\n",
       "4     53\n",
       "8     18\n",
       "3     10\n",
       "Name: quality, dtype: int64"
      ]
     },
     "execution_count": 7,
     "metadata": {},
     "output_type": "execute_result"
    }
   ],
   "source": [
    "red_wine[\"quality\"].value_counts(dropna=False, sort=True)"
   ]
  },
  {
   "cell_type": "code",
   "execution_count": 8,
   "id": "79de9057",
   "metadata": {},
   "outputs": [
    {
     "data": {
      "text/plain": [
       "average    1319\n",
       "good        217\n",
       "bad          63\n",
       "Name: quality, dtype: int64"
      ]
     },
     "execution_count": 8,
     "metadata": {},
     "output_type": "execute_result"
    }
   ],
   "source": [
    "ratings = [\n",
    "    (red_wine['quality'] >= 7),\n",
    "    (red_wine['quality'] <= 4)\n",
    "]\n",
    "quality = ['good', 'bad']\n",
    "red_wine['quality'] = np.select(ratings, quality, default='average')\n",
    "red_wine.quality.value_counts()"
   ]
  },
  {
   "cell_type": "code",
   "execution_count": 9,
   "id": "699b5408",
   "metadata": {},
   "outputs": [
    {
     "data": {
      "text/html": [
       "<div>\n",
       "<style scoped>\n",
       "    .dataframe tbody tr th:only-of-type {\n",
       "        vertical-align: middle;\n",
       "    }\n",
       "\n",
       "    .dataframe tbody tr th {\n",
       "        vertical-align: top;\n",
       "    }\n",
       "\n",
       "    .dataframe thead th {\n",
       "        text-align: right;\n",
       "    }\n",
       "</style>\n",
       "<table border=\"1\" class=\"dataframe\">\n",
       "  <thead>\n",
       "    <tr style=\"text-align: right;\">\n",
       "      <th></th>\n",
       "      <th>fixed acidity</th>\n",
       "      <th>volatile acidity</th>\n",
       "      <th>citric acid</th>\n",
       "      <th>residual sugar</th>\n",
       "      <th>chlorides</th>\n",
       "      <th>free sulfur dioxide</th>\n",
       "      <th>total sulfur dioxide</th>\n",
       "      <th>density</th>\n",
       "      <th>pH</th>\n",
       "      <th>sulphates</th>\n",
       "      <th>alcohol</th>\n",
       "      <th>quality</th>\n",
       "    </tr>\n",
       "  </thead>\n",
       "  <tbody>\n",
       "    <tr>\n",
       "      <th>0</th>\n",
       "      <td>7.4</td>\n",
       "      <td>0.700</td>\n",
       "      <td>0.00</td>\n",
       "      <td>1.9</td>\n",
       "      <td>0.076</td>\n",
       "      <td>11.0</td>\n",
       "      <td>34.0</td>\n",
       "      <td>0.99780</td>\n",
       "      <td>3.51</td>\n",
       "      <td>0.56</td>\n",
       "      <td>9.4</td>\n",
       "      <td>average</td>\n",
       "    </tr>\n",
       "    <tr>\n",
       "      <th>1</th>\n",
       "      <td>7.8</td>\n",
       "      <td>0.880</td>\n",
       "      <td>0.00</td>\n",
       "      <td>2.6</td>\n",
       "      <td>0.098</td>\n",
       "      <td>25.0</td>\n",
       "      <td>67.0</td>\n",
       "      <td>0.99680</td>\n",
       "      <td>3.20</td>\n",
       "      <td>0.68</td>\n",
       "      <td>9.8</td>\n",
       "      <td>average</td>\n",
       "    </tr>\n",
       "    <tr>\n",
       "      <th>2</th>\n",
       "      <td>7.8</td>\n",
       "      <td>0.760</td>\n",
       "      <td>0.04</td>\n",
       "      <td>2.3</td>\n",
       "      <td>0.092</td>\n",
       "      <td>15.0</td>\n",
       "      <td>54.0</td>\n",
       "      <td>0.99700</td>\n",
       "      <td>3.26</td>\n",
       "      <td>0.65</td>\n",
       "      <td>9.8</td>\n",
       "      <td>average</td>\n",
       "    </tr>\n",
       "    <tr>\n",
       "      <th>3</th>\n",
       "      <td>11.2</td>\n",
       "      <td>0.280</td>\n",
       "      <td>0.56</td>\n",
       "      <td>1.9</td>\n",
       "      <td>0.075</td>\n",
       "      <td>17.0</td>\n",
       "      <td>60.0</td>\n",
       "      <td>0.99800</td>\n",
       "      <td>3.16</td>\n",
       "      <td>0.58</td>\n",
       "      <td>9.8</td>\n",
       "      <td>average</td>\n",
       "    </tr>\n",
       "    <tr>\n",
       "      <th>4</th>\n",
       "      <td>7.4</td>\n",
       "      <td>0.700</td>\n",
       "      <td>0.00</td>\n",
       "      <td>1.9</td>\n",
       "      <td>0.076</td>\n",
       "      <td>11.0</td>\n",
       "      <td>34.0</td>\n",
       "      <td>0.99780</td>\n",
       "      <td>3.51</td>\n",
       "      <td>0.56</td>\n",
       "      <td>9.4</td>\n",
       "      <td>average</td>\n",
       "    </tr>\n",
       "    <tr>\n",
       "      <th>...</th>\n",
       "      <td>...</td>\n",
       "      <td>...</td>\n",
       "      <td>...</td>\n",
       "      <td>...</td>\n",
       "      <td>...</td>\n",
       "      <td>...</td>\n",
       "      <td>...</td>\n",
       "      <td>...</td>\n",
       "      <td>...</td>\n",
       "      <td>...</td>\n",
       "      <td>...</td>\n",
       "      <td>...</td>\n",
       "    </tr>\n",
       "    <tr>\n",
       "      <th>1594</th>\n",
       "      <td>6.2</td>\n",
       "      <td>0.600</td>\n",
       "      <td>0.08</td>\n",
       "      <td>2.0</td>\n",
       "      <td>0.090</td>\n",
       "      <td>32.0</td>\n",
       "      <td>44.0</td>\n",
       "      <td>0.99490</td>\n",
       "      <td>3.45</td>\n",
       "      <td>0.58</td>\n",
       "      <td>10.5</td>\n",
       "      <td>average</td>\n",
       "    </tr>\n",
       "    <tr>\n",
       "      <th>1595</th>\n",
       "      <td>5.9</td>\n",
       "      <td>0.550</td>\n",
       "      <td>0.10</td>\n",
       "      <td>2.2</td>\n",
       "      <td>0.062</td>\n",
       "      <td>39.0</td>\n",
       "      <td>51.0</td>\n",
       "      <td>0.99512</td>\n",
       "      <td>3.52</td>\n",
       "      <td>0.76</td>\n",
       "      <td>11.2</td>\n",
       "      <td>average</td>\n",
       "    </tr>\n",
       "    <tr>\n",
       "      <th>1596</th>\n",
       "      <td>6.3</td>\n",
       "      <td>0.510</td>\n",
       "      <td>0.13</td>\n",
       "      <td>2.3</td>\n",
       "      <td>0.076</td>\n",
       "      <td>29.0</td>\n",
       "      <td>40.0</td>\n",
       "      <td>0.99574</td>\n",
       "      <td>3.42</td>\n",
       "      <td>0.75</td>\n",
       "      <td>11.0</td>\n",
       "      <td>average</td>\n",
       "    </tr>\n",
       "    <tr>\n",
       "      <th>1597</th>\n",
       "      <td>5.9</td>\n",
       "      <td>0.645</td>\n",
       "      <td>0.12</td>\n",
       "      <td>2.0</td>\n",
       "      <td>0.075</td>\n",
       "      <td>32.0</td>\n",
       "      <td>44.0</td>\n",
       "      <td>0.99547</td>\n",
       "      <td>3.57</td>\n",
       "      <td>0.71</td>\n",
       "      <td>10.2</td>\n",
       "      <td>average</td>\n",
       "    </tr>\n",
       "    <tr>\n",
       "      <th>1598</th>\n",
       "      <td>6.0</td>\n",
       "      <td>0.310</td>\n",
       "      <td>0.47</td>\n",
       "      <td>3.6</td>\n",
       "      <td>0.067</td>\n",
       "      <td>18.0</td>\n",
       "      <td>42.0</td>\n",
       "      <td>0.99549</td>\n",
       "      <td>3.39</td>\n",
       "      <td>0.66</td>\n",
       "      <td>11.0</td>\n",
       "      <td>average</td>\n",
       "    </tr>\n",
       "  </tbody>\n",
       "</table>\n",
       "<p>1599 rows × 12 columns</p>\n",
       "</div>"
      ],
      "text/plain": [
       "      fixed acidity  volatile acidity  citric acid  residual sugar  chlorides  \\\n",
       "0               7.4             0.700         0.00             1.9      0.076   \n",
       "1               7.8             0.880         0.00             2.6      0.098   \n",
       "2               7.8             0.760         0.04             2.3      0.092   \n",
       "3              11.2             0.280         0.56             1.9      0.075   \n",
       "4               7.4             0.700         0.00             1.9      0.076   \n",
       "...             ...               ...          ...             ...        ...   \n",
       "1594            6.2             0.600         0.08             2.0      0.090   \n",
       "1595            5.9             0.550         0.10             2.2      0.062   \n",
       "1596            6.3             0.510         0.13             2.3      0.076   \n",
       "1597            5.9             0.645         0.12             2.0      0.075   \n",
       "1598            6.0             0.310         0.47             3.6      0.067   \n",
       "\n",
       "      free sulfur dioxide  total sulfur dioxide  density    pH  sulphates  \\\n",
       "0                    11.0                  34.0  0.99780  3.51       0.56   \n",
       "1                    25.0                  67.0  0.99680  3.20       0.68   \n",
       "2                    15.0                  54.0  0.99700  3.26       0.65   \n",
       "3                    17.0                  60.0  0.99800  3.16       0.58   \n",
       "4                    11.0                  34.0  0.99780  3.51       0.56   \n",
       "...                   ...                   ...      ...   ...        ...   \n",
       "1594                 32.0                  44.0  0.99490  3.45       0.58   \n",
       "1595                 39.0                  51.0  0.99512  3.52       0.76   \n",
       "1596                 29.0                  40.0  0.99574  3.42       0.75   \n",
       "1597                 32.0                  44.0  0.99547  3.57       0.71   \n",
       "1598                 18.0                  42.0  0.99549  3.39       0.66   \n",
       "\n",
       "      alcohol  quality  \n",
       "0         9.4  average  \n",
       "1         9.8  average  \n",
       "2         9.8  average  \n",
       "3         9.8  average  \n",
       "4         9.4  average  \n",
       "...       ...      ...  \n",
       "1594     10.5  average  \n",
       "1595     11.2  average  \n",
       "1596     11.0  average  \n",
       "1597     10.2  average  \n",
       "1598     11.0  average  \n",
       "\n",
       "[1599 rows x 12 columns]"
      ]
     },
     "execution_count": 9,
     "metadata": {},
     "output_type": "execute_result"
    }
   ],
   "source": [
    "red_wine"
   ]
  },
  {
   "cell_type": "code",
   "execution_count": 10,
   "id": "5b52aa41",
   "metadata": {},
   "outputs": [],
   "source": [
    "\n",
    "dfo=red_wine.select_dtypes(include=['object']) # select object type columns\n",
    "red_wine = pd.concat([red_wine.drop(dfo, axis=1), pd.get_dummies(dfo)], axis=1)"
   ]
  },
  {
   "cell_type": "code",
   "execution_count": 11,
   "id": "56bc4e56",
   "metadata": {},
   "outputs": [
    {
     "data": {
      "text/plain": [
       "0       0\n",
       "1       0\n",
       "2       0\n",
       "3       0\n",
       "4       0\n",
       "       ..\n",
       "1594    0\n",
       "1595    0\n",
       "1596    0\n",
       "1597    0\n",
       "1598    0\n",
       "Name: quality_good, Length: 1599, dtype: uint8"
      ]
     },
     "execution_count": 11,
     "metadata": {},
     "output_type": "execute_result"
    }
   ],
   "source": [
    "red_wine['quality_good']"
   ]
  },
  {
   "cell_type": "code",
   "execution_count": 12,
   "id": "a3d7f425",
   "metadata": {},
   "outputs": [],
   "source": [
    "def getDummyLabels(label):\n",
    "    if label ==  'bad':\n",
    "        return 0\n",
    "    elif label ==  'average':\n",
    "        return 1\n",
    "    elif label ==  'good':\n",
    "        return 2\n",
    "    else:\n",
    "        return -1"
   ]
  },
  {
   "cell_type": "code",
   "execution_count": 12,
   "id": "1667e413",
   "metadata": {},
   "outputs": [],
   "source": [
    "# We do the test train split here\n",
    "X = scaled_red_wine.drop([\"quality\"], axis = 1)\n",
    "y = red_wine['quality_good']"
   ]
  },
  {
   "cell_type": "code",
   "execution_count": null,
   "id": "f1e726c3",
   "metadata": {},
   "outputs": [],
   "source": []
  },
  {
   "cell_type": "code",
   "execution_count": 22,
   "id": "282a749b",
   "metadata": {},
   "outputs": [
    {
     "data": {
      "text/plain": [
       "0    1382\n",
       "1     217\n",
       "Name: quality_good, dtype: int64"
      ]
     },
     "execution_count": 22,
     "metadata": {},
     "output_type": "execute_result"
    }
   ],
   "source": [
    "y.value_counts()"
   ]
  },
  {
   "cell_type": "code",
   "execution_count": 15,
   "id": "9e61cde3",
   "metadata": {},
   "outputs": [],
   "source": [
    "from sklearn.model_selection import train_test_split\n",
    "X_train, X_test, y_train, y_test = train_test_split(X, y, test_size=0.3, random_state=2022, stratify=y)"
   ]
  },
  {
   "cell_type": "code",
   "execution_count": null,
   "id": "6484ad07",
   "metadata": {},
   "outputs": [],
   "source": []
  },
  {
   "cell_type": "code",
   "execution_count": 16,
   "id": "dae573d0",
   "metadata": {},
   "outputs": [
    {
     "name": "stdout",
     "output_type": "stream",
     "text": [
      "Dummy Score =  0.8645833333333334\n"
     ]
    }
   ],
   "source": [
    "from sklearn.dummy import DummyClassifier\n",
    "red_dummy_classifier = DummyClassifier(strategy='most_frequent',random_state=2022)\n",
    "red_dummy_classifier.fit(X_train,y_train)\n",
    "red_dummy_score = red_dummy_classifier.score(X_test,y_test)\n",
    "print(\"Dummy Score = \", red_dummy_score)"
   ]
  },
  {
   "cell_type": "markdown",
   "id": "3edadf32",
   "metadata": {},
   "source": [
    "# Use SMOTE to balance quality variable"
   ]
  },
  {
   "cell_type": "code",
   "execution_count": 23,
   "id": "929b70b6",
   "metadata": {},
   "outputs": [],
   "source": [
    "from imblearn.over_sampling import SMOTE\n",
    "sm = SMOTE(random_state=42)\n",
    "X_res, y_res = sm.fit_resample(X_train, y_train)\n",
    "X_train, y_train = X_res, y_res\n",
    "\n",
    "# Reference: https://machinelearningmastery.com/smote-oversampling-for-imbalanced-classification/"
   ]
  },
  {
   "cell_type": "code",
   "execution_count": null,
   "id": "292591b1",
   "metadata": {},
   "outputs": [],
   "source": []
  },
  {
   "cell_type": "code",
   "execution_count": 26,
   "id": "c758b99b",
   "metadata": {},
   "outputs": [],
   "source": [
    "# Model selection and model tuning\n",
    "# Function for executing classifier algorithms, outputing performance metrics and the best hyperparameters for each classifier\n",
    "import numpy as np\n",
    "\n",
    "\n",
    "def evaluate_model(X_test, y_test, clf, parameters):\n",
    "    \n",
    "    print(\"Name of classifier: \",clf)\n",
    "    \n",
    "    # Instantiate an instance of GridsearchCV\n",
    "    grid = GridSearchCV(clf, parameters, n_jobs = -1, scoring = 'roc_auc')\n",
    "    \n",
    "    # Fit the gridsearch model to the training splits - the DTM/sparse array and the target \n",
    "    grid_search = grid.fit(X_train, y_train)\n",
    "    \n",
    "    # Make predictions for X_test DTM/sparse array based on the best parameters.The refitted GridSearchCV estimator...\n",
    "    #....is made available as the best_estimator_ attribute and permits using predict ...\n",
    "    #...directly on this GridSearchCV instance. Predict produces binary classifications predictions \n",
    "    y_pred = grid_search.predict(X_test)\n",
    "    \n",
    "    \n",
    "    # Create a confusion matrix comparing the test target values with the predicted values\n",
    "    cm = metrics.confusion_matrix(y_test, y_pred)\n",
    "    \n",
    "    # Print the best score based on the scoring method, in this case 'roc_auc'\n",
    "    # Mean cross-validated score of the best_estimator\n",
    "    print(\"Best ROC AUC score:\", grid_search.best_score_) \n",
    "    \n",
    "    # Print a classification report for the best model\n",
    "    print(classification_report(y_test, y_pred))\n",
    "    print('\\nConfusion Matrix:\\n', cm)\n",
    "\n",
    "    # Print the best parameters identified by gridsearching\n",
    "    print(\"Best Parameters:\", grid_search.best_params_)\n",
    "    \n",
    "# Reference: https://github.com/sdesaidata/Springboard/blob/master/Capstone2_TweetsandMusic_Predictor/5__MachineLearning.ipynb\n",
    "# Reference: https://scikit-learn.org/stable/modules/generated/sklearn.model_selection.GridSearchCV.html\n",
    "    "
   ]
  },
  {
   "cell_type": "code",
   "execution_count": 130,
   "id": "f44679f2",
   "metadata": {},
   "outputs": [],
   "source": [
    "# Classifier algorithms for testing and their respective hyperparameter search grids\n",
    "# Commented-out the search grid for random forest classisfier due to long processing time\n",
    "\n",
    "# Algorithms to compare\n",
    "LR = LogisticRegression()\n",
    "KNN = KNeighborsClassifier()\n",
    "RF = RandomForestClassifier()\n",
    "\n",
    "# Search grids for classifier-specific parameters\n",
    "algos_params ={LR:{'C': [0.001, 0.1, 1, 10, 100]},\n",
    "              KNN:{'weights':['distance','uniform'],'n_neighbors':range(1,50)},\n",
    "             RF:{'n_estimators': [100, 300, 500, 800, 1200], # comment out RF due to long processing time (~ 3 hours)\n",
    "               'max_depth': [1, 5, 10, 20, 40, 80], # comment out RF due to long processing time (~ 3 hours)\n",
    "                'max_features': [3,4,5,6,7,8],\n",
    "              'min_samples_split': [2, 5, 10, 15, 100], # comment out RF due to long processing time (~ 3 hours)\n",
    "              'min_samples_leaf': [1, 2, 5, 10]}} # comment out RF due to long processing time (~ 3 hours)"
   ]
  },
  {
   "cell_type": "code",
   "execution_count": 131,
   "id": "b16f525f",
   "metadata": {},
   "outputs": [
    {
     "name": "stdout",
     "output_type": "stream",
     "text": [
      "Name of classifier:  LogisticRegression()\n",
      "Best ROC AUC score: 0.8644683763216857\n",
      "              precision    recall  f1-score   support\n",
      "\n",
      "           0       0.91      0.97      0.94       415\n",
      "           1       0.68      0.35      0.46        65\n",
      "\n",
      "    accuracy                           0.89       480\n",
      "   macro avg       0.79      0.66      0.70       480\n",
      "weighted avg       0.87      0.89      0.87       480\n",
      "\n",
      "\n",
      "Confusion Matrix:\n",
      " [[404  11]\n",
      " [ 42  23]]\n",
      "Best Parameters: {'C': 0.1}\n",
      "Name of classifier:  KNeighborsClassifier()\n",
      "Best ROC AUC score: 0.9078038520366698\n",
      "              precision    recall  f1-score   support\n",
      "\n",
      "           0       0.91      0.97      0.94       415\n",
      "           1       0.71      0.42      0.52        65\n",
      "\n",
      "    accuracy                           0.90       480\n",
      "   macro avg       0.81      0.69      0.73       480\n",
      "weighted avg       0.89      0.90      0.89       480\n",
      "\n",
      "\n",
      "Confusion Matrix:\n",
      " [[404  11]\n",
      " [ 38  27]]\n",
      "Best Parameters: {'n_neighbors': 40, 'weights': 'distance'}\n",
      "Name of classifier:  RandomForestClassifier()\n",
      "Best ROC AUC score: 0.9142492617973146\n",
      "              precision    recall  f1-score   support\n",
      "\n",
      "           0       0.93      0.96      0.95       415\n",
      "           1       0.69      0.52      0.60        65\n",
      "\n",
      "    accuracy                           0.90       480\n",
      "   macro avg       0.81      0.74      0.77       480\n",
      "weighted avg       0.90      0.90      0.90       480\n",
      "\n",
      "\n",
      "Confusion Matrix:\n",
      " [[400  15]\n",
      " [ 31  34]]\n",
      "Best Parameters: {'max_depth': 20, 'max_features': 3, 'min_samples_leaf': 1, 'min_samples_split': 2, 'n_estimators': 100}\n"
     ]
    }
   ],
   "source": [
    "# Compare the performance of classifier algorithms by iteratively calling the 'evaluate_model' function on all the ...\n",
    "#...classifier algorithms except random forest classifier due to lengthy process time\n",
    "# Call the random forest classifier separately (below)\n",
    "\n",
    "for k, v in algos_params.items():evaluate_model(X_test, y_test, k, v)\n",
    "    \n",
    "\n",
    "\n"
   ]
  },
  {
   "cell_type": "code",
   "execution_count": 45,
   "id": "8a601dd3",
   "metadata": {},
   "outputs": [
    {
     "data": {
      "text/plain": [
       "dict_keys(['bootstrap', 'ccp_alpha', 'class_weight', 'criterion', 'max_depth', 'max_features', 'max_leaf_nodes', 'max_samples', 'min_impurity_decrease', 'min_samples_leaf', 'min_samples_split', 'min_weight_fraction_leaf', 'n_estimators', 'n_jobs', 'oob_score', 'random_state', 'verbose', 'warm_start'])"
      ]
     },
     "execution_count": 45,
     "metadata": {},
     "output_type": "execute_result"
    }
   ],
   "source": [
    "RandomForestClassifier().get_params().keys()"
   ]
  },
  {
   "cell_type": "code",
   "execution_count": 158,
   "id": "d8bcd73e",
   "metadata": {},
   "outputs": [
    {
     "name": "stdout",
     "output_type": "stream",
     "text": [
      "Logistic Regression AUC: 0.8904\n",
      "K Nearest Neighbor AUC: 0.9257\n",
      "Random Forest Classifier AUC: 0.9284\n"
     ]
    }
   ],
   "source": [
    "LR = LogisticRegression(C = 0.1)\n",
    "LR.fit(X_train, y_train)\n",
    "LR_probs = LR.predict_proba(X_test)\n",
    "LR_probs = LR_probs[:, 1]\n",
    "LR_fpr, LR_tpr, LR_thresholds = roc_curve(y_test, LR_probs)\n",
    "LR_auc = roc_auc_score(y_test, LR_probs)\n",
    "print('Logistic Regression AUC: %.4f' % LR_auc)\n",
    "\n",
    "KNN = KNeighborsClassifier(n_neighbors= 40, weights='distance')\n",
    "KNN.fit(X_train, y_train)\n",
    "KNN_probs = KNN.predict_proba(X_test)\n",
    "KNN_probs = KNN_probs[:, 1]\n",
    "KNN_fpr, KNN_tpr, KNN_thresholds = roc_curve(y_test, KNN_probs)\n",
    "KNN_auc = roc_auc_score(y_test,KNN_probs)\n",
    "print('K Nearest Neighbor AUC: %.4f' % KNN_auc)\n",
    "\n",
    "RF = RandomForestClassifier(max_depth= 20, max_features= 3, min_samples_leaf=1, min_samples_split= 2, n_estimators=100)\n",
    "RF.fit(X_train, y_train)\n",
    "RF_probs = RF.predict_proba(X_test)\n",
    "RF_probs = RF_probs[:, 1]\n",
    "RF_fpr, RF_tpr, RF_thresholds = roc_curve(y_test, RF_probs)\n",
    "RF_auc = roc_auc_score(y_test, RF_probs)\n",
    "print('Random Forest Classifier AUC: %.4f' % RF_auc)"
   ]
  },
  {
   "cell_type": "code",
   "execution_count": 164,
   "id": "2fe462ff",
   "metadata": {},
   "outputs": [
    {
     "data": {
      "image/png": "[encoded data removed]",
      "text/plain": [
       "<Figure size 720x720 with 1 Axes>"
      ]
     },
     "metadata": {},
     "output_type": "display_data"
    }
   ],
   "source": [
    "# Plot the roc curves for each classifier using their best hyperparameters\n",
    "\n",
    "sns.set(style=\"whitegrid\")\n",
    "plt.figure(figsize=(10, 10))\n",
    "plt.plot(LR_fpr, LR_tpr, color='red', label='Logistic Regression ROC, AUC = 0.8904')\n",
    "plt.plot(KNN_fpr, KNN_tpr, color='green', label='K Nearest Neighbor ROC, AUC = 0.9257')\n",
    "plt.plot(RF_fpr, RF_tpr, color='black', label='Random Forest Classifier ROC, AUC = 0.9284')\n",
    "plt.plot([0, 1], [0, 1], color='darkblue', linestyle='--')\n",
    "plt.title(\"Receiver Operating Characteristics\", fontsize = 20)\n",
    "plt.legend(loc='best', fontsize  = 12)\n",
    "plt.xlabel(\"False Positive Rate\", fontsize = 16)\n",
    "plt.ylabel(\"True Positive Rate\", fontsize = 16)\n",
    "plt.ylim(0,1.03)\n",
    "plt.savefig('capstone2_roc_auc.png')\n",
    "\n",
    "# Reference: # https://stackabuse.com/understanding-roc-curves-with-python/\n"
   ]
  },
  {
   "cell_type": "markdown",
   "id": "00f6629d",
   "metadata": {},
   "source": [
    "# Classification Metrics for the Random Forest Model of the Red Wine Data for Predicting Between High Quality and Low Quality Wines\n"
   ]
  },
  {
   "cell_type": "code",
   "execution_count": 97,
   "id": "98e3a26b",
   "metadata": {},
   "outputs": [],
   "source": [
    "# Use the best model - Random Forest(max_depth= 20, max_features= 5, min_samples_leaf=1, min_samples_split= 2, n_estimators=500) to make classification predictions from the test features for the sarcasm data\n",
    "\n",
    "# Predict binary classifications for each red wine in the test features\n",
    "RF_y_pred_binary = RF.predict(X_test)\n",
    "\n",
    "# Create probabilities of each red wine being \"good\"\n",
    "RF_y_pred = RF.predict_proba(X_test)[:,1]"
   ]
  },
  {
   "cell_type": "code",
   "execution_count": 98,
   "id": "21898a16",
   "metadata": {},
   "outputs": [
    {
     "name": "stdout",
     "output_type": "stream",
     "text": [
      "Accuracy: 0.915\n",
      "Precision: 0.722\n",
      "Recall: 0.600\n",
      "F1 Score: 0.655\n"
     ]
    }
   ],
   "source": [
    "# Metrics for the best model - Random Forest(max_depth= 20, max_features= 5, min_samples_leaf=1, min_samples_split= 2, n_estimators=500) to make classification predictions from the test features for the sarcasm data\n",
    "\n",
    "# Accuracy\n",
    "print('Accuracy: %.3f' % accuracy_score(y_true= y_test, y_pred = RF_y_pred_binary))\n",
    "# Precision\n",
    "print('Precision: %.3f' % precision_score(y_true= y_test, y_pred = RF_y_pred_binary))\n",
    "# Recall\n",
    "print('Recall: %.3f' % recall_score(y_true= y_test, y_pred = RF_y_pred_binary))\n",
    "# F1 score\n",
    "print('F1 Score: %.3f' % f1_score(y_true= y_test, y_pred = RF_y_pred_binary))"
   ]
  },
  {
   "cell_type": "code",
   "execution_count": 99,
   "id": "8387cd19",
   "metadata": {},
   "outputs": [
    {
     "data": {
      "text/html": [
       "<div>\n",
       "<style scoped>\n",
       "    .dataframe tbody tr th:only-of-type {\n",
       "        vertical-align: middle;\n",
       "    }\n",
       "\n",
       "    .dataframe tbody tr th {\n",
       "        vertical-align: top;\n",
       "    }\n",
       "\n",
       "    .dataframe thead th {\n",
       "        text-align: right;\n",
       "    }\n",
       "</style>\n",
       "<table border=\"1\" class=\"dataframe\">\n",
       "  <thead>\n",
       "    <tr style=\"text-align: right;\">\n",
       "      <th></th>\n",
       "      <th>0</th>\n",
       "      <th>1</th>\n",
       "      <th>accuracy</th>\n",
       "      <th>macro avg</th>\n",
       "      <th>weighted avg</th>\n",
       "    </tr>\n",
       "  </thead>\n",
       "  <tbody>\n",
       "    <tr>\n",
       "      <th>precision</th>\n",
       "      <td>0.938967</td>\n",
       "      <td>0.722222</td>\n",
       "      <td>0.914583</td>\n",
       "      <td>0.830595</td>\n",
       "      <td>0.909616</td>\n",
       "    </tr>\n",
       "    <tr>\n",
       "      <th>recall</th>\n",
       "      <td>0.963855</td>\n",
       "      <td>0.600000</td>\n",
       "      <td>0.914583</td>\n",
       "      <td>0.781928</td>\n",
       "      <td>0.914583</td>\n",
       "    </tr>\n",
       "    <tr>\n",
       "      <th>f1-score</th>\n",
       "      <td>0.951249</td>\n",
       "      <td>0.655462</td>\n",
       "      <td>0.914583</td>\n",
       "      <td>0.803355</td>\n",
       "      <td>0.911194</td>\n",
       "    </tr>\n",
       "    <tr>\n",
       "      <th>support</th>\n",
       "      <td>415.000000</td>\n",
       "      <td>65.000000</td>\n",
       "      <td>0.914583</td>\n",
       "      <td>480.000000</td>\n",
       "      <td>480.000000</td>\n",
       "    </tr>\n",
       "  </tbody>\n",
       "</table>\n",
       "</div>"
      ],
      "text/plain": [
       "                    0          1  accuracy   macro avg  weighted avg\n",
       "precision    0.938967   0.722222  0.914583    0.830595      0.909616\n",
       "recall       0.963855   0.600000  0.914583    0.781928      0.914583\n",
       "f1-score     0.951249   0.655462  0.914583    0.803355      0.911194\n",
       "support    415.000000  65.000000  0.914583  480.000000    480.000000"
      ]
     },
     "execution_count": 99,
     "metadata": {},
     "output_type": "execute_result"
    }
   ],
   "source": [
    "# Generate performance metrics using a classification report for the Random forest classifier for the red wine data\n",
    "\n",
    "report_RF = classification_report(y_test, RF_y_pred_binary,output_dict=True)\n",
    "# Convert the classification report dictionary into a DF\n",
    "RF_df = pd.DataFrame(report_RF)\n",
    "RF_df\n",
    "\n",
    "# Reference: https://stackoverflow.com/questions/39662398/scikit-learn-output-metrics-classification-report-into-csv-tab-delimited-format"
   ]
  },
  {
   "cell_type": "code",
   "execution_count": 100,
   "id": "88030efc",
   "metadata": {},
   "outputs": [],
   "source": [
    "# Convert the DF with the classification report 'RF_df' for Random Forest into an excel spreadsheet for easier integration into the report\n",
    "\n",
    "RF_df.to_excel(\"rf_class_report.xlsx\")"
   ]
  },
  {
   "cell_type": "code",
   "execution_count": 101,
   "id": "83a68d84",
   "metadata": {},
   "outputs": [
    {
     "name": "stdout",
     "output_type": "stream",
     "text": [
      "f1 score, macro average: 0.8034\n",
      "f1 score, micro average: 0.9146\n",
      "f1 score, weighted average: 0.9112\n"
     ]
    }
   ],
   "source": [
    "# Calculate the f1 scores for the best model, Random Forest\n",
    "\n",
    "RF_y_pred_binary = RF.predict(X_test)\n",
    "\n",
    "print(\"f1 score, macro average:\",round(f1_score(y_test, RF_y_pred_binary, average='macro'),4))\n",
    "print(\"f1 score, micro average:\",round(f1_score(y_test, RF_y_pred_binary, average='micro'),4))\n",
    "print(\"f1 score, weighted average:\",round(f1_score(y_test, RF_y_pred_binary, average='weighted'),4))"
   ]
  },
  {
   "cell_type": "code",
   "execution_count": 102,
   "id": "ab07968d",
   "metadata": {},
   "outputs": [
    {
     "name": "stdout",
     "output_type": "stream",
     "text": [
      "f-beta score, macro average: 0.8189\n",
      "f-beta, micro average: 0.9146\n",
      "f-beta, weighted average: 0.91\n"
     ]
    }
   ],
   "source": [
    "# Calculate f-beta scores for the best model,Random Forest with beta = 0.5\n",
    "\n",
    "# The beta parameter determines the weight of recall in the combined score. With beta = 1, f1 and f-beta are equivalent. The beta ...\n",
    "#...parameter determines the weight of recall in the combined score. beta < 1 lends more weight to precision, while beta > 1 favors...\n",
    "#...recall (beta -> 0 considers only precision, beta -> +inf only recall).\n",
    "\n",
    "print(\"f-beta score, macro average:\",round(fbeta_score(y_test, RF_y_pred_binary, average='macro',beta=0.5),4))\n",
    "print(\"f-beta, micro average:\",round(fbeta_score(y_test, RF_y_pred_binary, average='micro',beta = 0.5),4))\n",
    "print(\"f-beta, weighted average:\",round(fbeta_score(y_test, RF_y_pred_binary, average='weighted',beta =0.5),4))\n",
    "\n",
    "# Reference: https://scikit-learn.org/stable/modules/generated/sklearn.metrics.fbeta_score.html#sklearn.metrics.fbeta_score"
   ]
  },
  {
   "cell_type": "code",
   "execution_count": 103,
   "id": "95dd4a8e",
   "metadata": {},
   "outputs": [],
   "source": [
    "# Adjust the classification based on the prediction threshold\n",
    "\n",
    "def adjusted_classes(RF_y_pred, t):\n",
    "    \n",
    "    return [1 if y >= t else 0 for y in RF_y_pred]\n",
    "\n",
    "# Reference: https://towardsdatascience.com/fine-tuning-a-classifier-in-scikit-learn-66e048c21e65\n",
    "# Reference: https://github.com/sdesaidata/Springboard/blob/master/Capstone1_Beer_Rating_Predictor/MachineLearning.ipynb"
   ]
  },
  {
   "cell_type": "code",
   "execution_count": 168,
   "id": "32592667",
   "metadata": {},
   "outputs": [
    {
     "data": {
      "text/html": [
       "<div>\n",
       "<style scoped>\n",
       "    .dataframe tbody tr th:only-of-type {\n",
       "        vertical-align: middle;\n",
       "    }\n",
       "\n",
       "    .dataframe tbody tr th {\n",
       "        vertical-align: top;\n",
       "    }\n",
       "\n",
       "    .dataframe thead th {\n",
       "        text-align: right;\n",
       "    }\n",
       "</style>\n",
       "<table border=\"1\" class=\"dataframe\">\n",
       "  <thead>\n",
       "    <tr style=\"text-align: right;\">\n",
       "      <th></th>\n",
       "      <th>Low Quality</th>\n",
       "      <th>High Quality</th>\n",
       "      <th>accuracy</th>\n",
       "      <th>macro avg</th>\n",
       "      <th>weighted avg</th>\n",
       "    </tr>\n",
       "  </thead>\n",
       "  <tbody>\n",
       "    <tr>\n",
       "      <th>precision</th>\n",
       "      <td>0.938824</td>\n",
       "      <td>0.709091</td>\n",
       "      <td>0.9125</td>\n",
       "      <td>0.823957</td>\n",
       "      <td>0.907714</td>\n",
       "    </tr>\n",
       "    <tr>\n",
       "      <th>recall</th>\n",
       "      <td>0.961446</td>\n",
       "      <td>0.600000</td>\n",
       "      <td>0.9125</td>\n",
       "      <td>0.780723</td>\n",
       "      <td>0.912500</td>\n",
       "    </tr>\n",
       "    <tr>\n",
       "      <th>f1-score</th>\n",
       "      <td>0.950000</td>\n",
       "      <td>0.650000</td>\n",
       "      <td>0.9125</td>\n",
       "      <td>0.800000</td>\n",
       "      <td>0.909375</td>\n",
       "    </tr>\n",
       "    <tr>\n",
       "      <th>support</th>\n",
       "      <td>415.000000</td>\n",
       "      <td>65.000000</td>\n",
       "      <td>0.9125</td>\n",
       "      <td>480.000000</td>\n",
       "      <td>480.000000</td>\n",
       "    </tr>\n",
       "  </tbody>\n",
       "</table>\n",
       "</div>"
      ],
      "text/plain": [
       "           Low Quality  High Quality  accuracy   macro avg  weighted avg\n",
       "precision     0.938824      0.709091    0.9125    0.823957      0.907714\n",
       "recall        0.961446      0.600000    0.9125    0.780723      0.912500\n",
       "f1-score      0.950000      0.650000    0.9125    0.800000      0.909375\n",
       "support     415.000000     65.000000    0.9125  480.000000    480.000000"
      ]
     },
     "execution_count": 168,
     "metadata": {},
     "output_type": "execute_result"
    }
   ],
   "source": [
    "# Classification report for the best-performing model - Random Forest with the ...\n",
    "#...standard threshold (t = 0.5) into a DF\n",
    "\n",
    "report_t5 = classification_report(y_test, adjusted_classes(RF_y_pred, t=0.5),output_dict=True)\n",
    "df = pd.DataFrame(report_t5)\n",
    "df.columns = ['Low Quality', 'High Quality', 'accuracy', 'macro avg', 'weighted avg']\n",
    "df\n",
    "# Reference: https://stackoverflow.com/questions/39662398/scikit-learn-output-metrics-classification-report-into-csv-tab-delimited-format"
   ]
  },
  {
   "cell_type": "code",
   "execution_count": 106,
   "id": "411bd2c9",
   "metadata": {},
   "outputs": [
    {
     "data": {
      "image/png": "[encoded data removed]",
      "text/plain": [
       "<Figure size 720x576 with 2 Axes>"
      ]
     },
     "metadata": {},
     "output_type": "display_data"
    }
   ],
   "source": [
    "# Confusion matrix figure for the best-performing model - Random Forest with the ...\n",
    "#...standard threshold (t = 0.5)     \n",
    "\n",
    "matrix_t5 = confusion_matrix(y_test, adjusted_classes(RF_y_pred, t=0.5),labels=[1, 0]) # include the labels parameter produce a confusion matrix from the perpective of the sarcatsic class\n",
    "\n",
    "plt.figure(figsize=(10,8))\n",
    "ax= plt.subplot()\n",
    "sns.heatmap(matrix_t5, annot=True, ax = ax, fmt='g',cmap = 'YlGnBu'); #annot=True to annotate cells\n",
    "\n",
    "# labels, title and ticks\n",
    "ax.set_xlabel('Predicted labels');ax.set_ylabel('True labels') \n",
    "ax.set_title('Confusion Matrix for t = 0.5', fontsize = 20) \n",
    "ax.xaxis.set_ticklabels(['Good Wine', 'Not Good'], fontsize = 16) \n",
    "ax.yaxis.set_ticklabels(['Good Wine', 'Not Good'], fontsize = 16)\n",
    "plt.savefig('cm_t5.png')\n",
    "\n",
    "# Reference (sns heatmap): https://stackoverflow.com/questions/19233771/sklearn-plot-confusion-matrix-with-labels\n",
    "# Reference (sns heatmap): https://jakevdp.github.io/PythonDataScienceHandbook/05.05-naive-bayes.html"
   ]
  },
  {
   "cell_type": "markdown",
   "id": "d0175cf2",
   "metadata": {},
   "source": [
    "# Threshold Analysis for the Random Forest Model - Exploring the Relationship Between Precision, Recall and Threshold Values\n",
    "\n"
   ]
  },
  {
   "cell_type": "code",
   "execution_count": 107,
   "id": "85203d77",
   "metadata": {},
   "outputs": [],
   "source": [
    "# Make binary or continuous predictions based on the best Random Forest model\n",
    "\n",
    "# Make binary predictions based on the best Random Forest model\n",
    "RF_y_pred_binary = RF.predict(X_test)\n",
    "\n",
    "# Make a prediction on a continuous probability scale based on the best Random Forest model\n",
    "RF_y_pred = RF.predict_proba(X_test)[:,1]"
   ]
  },
  {
   "cell_type": "code",
   "execution_count": 108,
   "id": "feb4d7f7",
   "metadata": {},
   "outputs": [],
   "source": [
    "# Return evenly spaced array of values for testing classification metrics values at different thresholds\n",
    "\n",
    "thresholds=np.arange(0,1,.01)\n",
    "\n",
    "# Reference: https://docs.scipy.org/doc/numpy/reference/generated/numpy.arange.html"
   ]
  },
  {
   "cell_type": "code",
   "execution_count": 109,
   "id": "0d0b1b71",
   "metadata": {},
   "outputs": [],
   "source": [
    "# Adjust the classification based on the prediction threshold\n",
    "\n",
    "def adjusted_classes(RF_y_pred, t):\n",
    "    \n",
    "    return [1 if y >= t else 0 for y in RF_y_pred]\n",
    "\n",
    "# Reference: https://towardsdatascience.com/fine-tuning-a-classifier-in-scikit-learn-66e048c21e65\n",
    "# Reference: https://github.com/sdesaidata/Springboard/blob/master/Capstone1_Beer_Rating_Predictor/MachineLearning.ipynb"
   ]
  },
  {
   "cell_type": "code",
   "execution_count": 121,
   "id": "e67e8e01",
   "metadata": {},
   "outputs": [],
   "source": [
    "# Plot the precison recall curve and show the current value for each metric by identifying the classifier's threshold\n",
    "\n",
    "def precision_recall_threshold(p, r, thresholds, t=0.5):\n",
    "       \n",
    "    # generate new class predictions based on the adjusted_classes\n",
    "    # function above and view the resulting confusion matrix.\n",
    "    y_pred_adj = adjusted_classes(RF_y_pred, t)\n",
    "    print(pd.DataFrame(confusion_matrix(y_test, y_pred_adj),\n",
    "                       columns=['pred_neg', 'pred_pos'], \n",
    "                       index=['neg', 'pos']))\n",
    "    \n",
    "    # plot the curve\n",
    "    sns.set(style=\"whitegrid\")\n",
    "    plt.figure(figsize=(8,8))\n",
    "    plt.title(\"Precision and Recall curve ^ = current threshold\")\n",
    "    plt.step(r, p, color='b', alpha=0.2,\n",
    "             where='post')\n",
    "    plt.fill_between(r, p, step='post', alpha=0.2,\n",
    "                     color='b')\n",
    "    plt.ylim([0, 1.01]);\n",
    "    plt.xlim([0, 1.01]);\n",
    "    plt.xlabel('Recall');\n",
    "    plt.ylabel('Precision');\n",
    "    \n",
    "    # plot the current threshold on the line\n",
    "    close_default_clf = np.argmin(np.abs(thresholds - t))\n",
    "    plt.plot(r[close_default_clf], p[close_default_clf], '^', c='k',\n",
    "            markersize=15)\n",
    "\n",
    "# Reference: https://towardsdatascience.com/fine-tuning-a-classifier-in-scikit-learn-66e048c21e65"
   ]
  },
  {
   "cell_type": "code",
   "execution_count": 122,
   "id": "f8203799",
   "metadata": {},
   "outputs": [],
   "source": [
    "# Generate precision-recall curves best on the test target data and the matching predicted probabilities ...\n",
    "#... generated using the best model\n",
    "\n",
    "p, r, thresholds = precision_recall_curve(y_test, RF_y_pred)"
   ]
  },
  {
   "cell_type": "code",
   "execution_count": 128,
   "id": "3f1dc129",
   "metadata": {},
   "outputs": [
    {
     "name": "stdout",
     "output_type": "stream",
     "text": [
      "     pred_neg  pred_pos\n",
      "neg       399        16\n",
      "pos        26        39\n"
     ]
    },
    {
     "data": {
      "image/png": "[encoded data removed]",
      "text/plain": [
       "<Figure size 576x576 with 1 Axes>"
      ]
     },
     "metadata": {},
     "output_type": "display_data"
    }
   ],
   "source": [
    "# Plot the precision-recall curve of the logistic regression model for the sarcasm data for the threshold = 0.5\n",
    "\n",
    "precision_recall_threshold(p, r, thresholds, t=0.5)"
   ]
  },
  {
   "cell_type": "code",
   "execution_count": 113,
   "id": "ddf15dc7",
   "metadata": {},
   "outputs": [
    {
     "name": "stdout",
     "output_type": "stream",
     "text": [
      "Average precision score: 0.73\n"
     ]
    },
    {
     "data": {
      "text/plain": [
       "Text(0.5, 1.0, '2-class Precision-Recall curve: AP=0.73')"
      ]
     },
     "execution_count": 113,
     "metadata": {},
     "output_type": "execute_result"
    },
    {
     "data": {
      "image/png": "[encoded data removed]",
      "text/plain": [
       "<Figure size 432x288 with 1 Axes>"
      ]
     },
     "metadata": {},
     "output_type": "display_data"
    }
   ],
   "source": [
    "# Calculate the average precision score from predictions based on the best model and generate a precision-recall curve\n",
    "\n",
    "RF_y_pred = RF.predict_proba(X_test)[:,1]\n",
    "average_precision = average_precision_score(y_test, RF_y_pred)\n",
    "\n",
    "print('Average precision score: {0:0.2f}'.format(\n",
    "      average_precision))\n",
    "disp = plot_precision_recall_curve(RF, X_test, y_test)\n",
    "disp.ax_.set_title('2-class Precision-Recall curve: AP={0:0.2f}'.format(average_precision))\n",
    "\n",
    "# Reference: https://scikit-learn.org/stable/auto_examples/model_selection/plot_precision_recall.html#sphx-glr-auto-examples-model-selection-plot-precision-rec"
   ]
  },
  {
   "cell_type": "markdown",
   "id": "223ad65c",
   "metadata": {},
   "source": [
    "# Determine the false positives and false negatives based off the predictions made using LogisticRegressionCV\n",
    "fp = X_test[y_test < RF_y_pred_binary]\n",
    "fn = X_test[y_test > RF_y_pred_binary]\n",
    "\n",
    "# Determine predicted probabilites for false positives and false negatives\n",
    "a = RF_y_pred[y_test < RF_y_pred_binary]\n",
    "b = RF_y_pred[y_test > RF_y_pred_binary]\n",
    "\n",
    "# Convert false negative and false positives from series to data frame\n",
    "#fp = fp.to_frame()\n",
    "#fn = fn.to_frame()\n",
    "\n",
    "# Add Predictive Probabilities as a Column\n",
    "fp['pred_prob'] = a\n",
    "fn['pred_prob'] = b\n",
    "\n",
    "# Sort by Predictive Probabilities\n",
    "fp = fp.sort_values(by=['pred_prob'], ascending=False)\n",
    "fn = fn.sort_values(by=['pred_prob'] )"
   ]
  },
  {
   "cell_type": "markdown",
   "id": "768cad40",
   "metadata": {},
   "source": [
    "# Business Scenario One: Maximize the Red Wine Model's Ability to Detect High Quality Wines\n"
   ]
  },
  {
   "cell_type": "code",
   "execution_count": 176,
   "id": "cc8689e0",
   "metadata": {},
   "outputs": [
    {
     "name": "stdout",
     "output_type": "stream",
     "text": [
      "The largest fbeta score of 0.9146 occurs at a threshold value of: 0.502\n"
     ]
    }
   ],
   "source": [
    "# Identify the threshold associated with the largest fbeta score\n",
    " \n",
    "# Initialize an empty list to store fbeta scores\n",
    "fbeta_points = []\n",
    "# Define the starting largest score\n",
    "largest_score = 0\n",
    "\n",
    "# Loop through the array of threshold values to test\n",
    "for t in thresholds:\n",
    "    # Assign new binary class based on the new threshold\n",
    "    adjusted_y_pred_scenario_one = adjusted_classes(RF_y_pred, t=t)\n",
    "    # Calculate the new recall score based on the new assignments for the new threshold\n",
    "    #  beta >1 which favors recall and beta <1 favors precision\n",
    "    new_balance = fbeta_score(y_test, adjusted_y_pred_scenario_one, average='micro', beta = 10) # 'micro' calculates metrics globally by counting the total true...\n",
    "    #...positives, false negatives and false positives\n",
    "    # Append the new recall score to the list\n",
    "    fbeta_points.append(new_balance)\n",
    "    # Determine if the new recall score is the largest, and if so assign the score and threshold\n",
    "    if new_balance > largest_score:\n",
    "        largest_score = new_balance\n",
    "        thresh = t\n",
    "        #print(largest_score,thresh)\n",
    "print(\"The largest fbeta score of\",round((largest_score),4),\"occurs at a threshold value of:\",thresh)    \n",
    "        \n",
    "# Reference: https://scikit-learn.org/stable/modules/generated/sklearn.metrics.fbeta_score.html?highlight=fbeta"
   ]
  },
  {
   "cell_type": "code",
   "execution_count": null,
   "id": "6c867530",
   "metadata": {},
   "outputs": [],
   "source": []
  },
  {
   "cell_type": "code",
   "execution_count": 171,
   "id": "a225210c",
   "metadata": {},
   "outputs": [
    {
     "name": "stdout",
     "output_type": "stream",
     "text": [
      "Classification Report for the Business Application - Complementing Sentiment Analysis:\n",
      "               precision    recall  f1-score   support\n",
      "\n",
      "           0       0.96      0.94      0.95       426\n",
      "           1       0.60      0.72      0.66        54\n",
      "\n",
      "    accuracy                           0.91       480\n",
      "   macro avg       0.78      0.83      0.80       480\n",
      "weighted avg       0.92      0.91      0.92       480\n",
      "\n",
      "Confusion Matrix for the Business Application - Complementing Sentiment Analysis:\n",
      " [[400  15]\n",
      " [ 26  39]]\n"
     ]
    }
   ],
   "source": [
    "# Classification Report for the business scenario one - maximizing fbeta score and minimizing false negatives\n",
    "\n",
    "print(\"Classification Report for the Business Application - Complementing Sentiment Analysis:\\n\",classification_report(adjusted_classes(RF_y_pred, 0.502), y_test))\n",
    "print(\"Confusion Matrix for the Business Application - Complementing Sentiment Analysis:\\n\",confusion_matrix(y_test, adjusted_classes(RF_y_pred, 0.502)))\n",
    "\n",
    "# Reference: https://scikit-learn.org/stable/modules/generated/sklearn.metrics.classification_report.html"
   ]
  },
  {
   "cell_type": "code",
   "execution_count": 172,
   "id": "2426bb61",
   "metadata": {},
   "outputs": [
    {
     "data": {
      "text/html": [
       "<div>\n",
       "<style scoped>\n",
       "    .dataframe tbody tr th:only-of-type {\n",
       "        vertical-align: middle;\n",
       "    }\n",
       "\n",
       "    .dataframe tbody tr th {\n",
       "        vertical-align: top;\n",
       "    }\n",
       "\n",
       "    .dataframe thead th {\n",
       "        text-align: right;\n",
       "    }\n",
       "</style>\n",
       "<table border=\"1\" class=\"dataframe\">\n",
       "  <thead>\n",
       "    <tr style=\"text-align: right;\">\n",
       "      <th></th>\n",
       "      <th>0</th>\n",
       "      <th>1</th>\n",
       "      <th>accuracy</th>\n",
       "      <th>macro avg</th>\n",
       "      <th>weighted avg</th>\n",
       "    </tr>\n",
       "  </thead>\n",
       "  <tbody>\n",
       "    <tr>\n",
       "      <th>precision</th>\n",
       "      <td>0.961446</td>\n",
       "      <td>0.600000</td>\n",
       "      <td>0.9125</td>\n",
       "      <td>0.780723</td>\n",
       "      <td>0.920030</td>\n",
       "    </tr>\n",
       "    <tr>\n",
       "      <th>recall</th>\n",
       "      <td>0.938824</td>\n",
       "      <td>0.709091</td>\n",
       "      <td>0.9125</td>\n",
       "      <td>0.823957</td>\n",
       "      <td>0.912500</td>\n",
       "    </tr>\n",
       "    <tr>\n",
       "      <th>f1-score</th>\n",
       "      <td>0.950000</td>\n",
       "      <td>0.650000</td>\n",
       "      <td>0.9125</td>\n",
       "      <td>0.800000</td>\n",
       "      <td>0.915625</td>\n",
       "    </tr>\n",
       "    <tr>\n",
       "      <th>support</th>\n",
       "      <td>425.000000</td>\n",
       "      <td>55.000000</td>\n",
       "      <td>0.9125</td>\n",
       "      <td>480.000000</td>\n",
       "      <td>480.000000</td>\n",
       "    </tr>\n",
       "  </tbody>\n",
       "</table>\n",
       "</div>"
      ],
      "text/plain": [
       "                    0          1  accuracy   macro avg  weighted avg\n",
       "precision    0.961446   0.600000    0.9125    0.780723      0.920030\n",
       "recall       0.938824   0.709091    0.9125    0.823957      0.912500\n",
       "f1-score     0.950000   0.650000    0.9125    0.800000      0.915625\n",
       "support    425.000000  55.000000    0.9125  480.000000    480.000000"
      ]
     },
     "execution_count": 172,
     "metadata": {},
     "output_type": "execute_result"
    }
   ],
   "source": [
    "# Convert the classification report for the business application - complementing sentiment analysis into a DF\n",
    "\n",
    "report = classification_report(adjusted_classes(RF_y_pred,t=0.50),y_test,output_dict=True)\n",
    "df_cr = pd.DataFrame(report)\n",
    "df_cr\n",
    "\n",
    "# Reference: https://stackoverflow.com/questions/39662398/scikit-learn-output-metrics-classification-report-into-csv-tab-delimited-format"
   ]
  },
  {
   "cell_type": "code",
   "execution_count": 174,
   "id": "05c0ad17",
   "metadata": {},
   "outputs": [
    {
     "data": {
      "image/png": "[encoded data removed]",
      "text/plain": [
       "<Figure size 720x576 with 2 Axes>"
      ]
     },
     "metadata": {},
     "output_type": "display_data"
    }
   ],
   "source": [
    "# Confusion matrix figure for the business application - complementing sentiment analysis     \n",
    "\n",
    "matrix_scenario_one = confusion_matrix(y_test, adjusted_classes(RF_y_pred, t=0.502))\n",
    "\n",
    "plt.figure(figsize=(10,8))\n",
    "ax= plt.subplot()\n",
    "sns.heatmap(matrix_scenario_one, annot=True, ax = ax, fmt='g',cmap = 'YlGnBu'); # annot=True to annotate cells\n",
    "\n",
    "# labels, title and ticks\n",
    "ax.set_xlabel('Predicted labels');ax.set_ylabel('True labels') \n",
    "ax.set_title('Confusion Matrix for t = 0.50', fontsize=20) \n",
    "ax.xaxis.set_ticklabels(['High Quality', 'Low Quality'], fontsize = 14) \n",
    "ax.yaxis.set_ticklabels(['High Quality', 'Low Quality'], fontsize = 14)\n",
    "plt.savefig('cm_t58.png')\n",
    "\n",
    "# Reference (sns heatmap): https://stackoverflow.com/questions/19233771/sklearn-plot-confusion-matrix-with-labels\n",
    "# Reference (sns heatmap): https://jakevdp.github.io/PythonDataScienceHandbook/05.05-naive-bayes.html"
   ]
  },
  {
   "cell_type": "code",
   "execution_count": 215,
   "id": "0022e568",
   "metadata": {},
   "outputs": [
    {
     "ename": "ValueError",
     "evalue": "x and y must have same first dimension, but have shapes (100,) and (178,)",
     "output_type": "error",
     "traceback": [
      "\u001b[1;31m---------------------------------------------------------------------------\u001b[0m",
      "\u001b[1;31mValueError\u001b[0m                                Traceback (most recent call last)",
      "\u001b[1;32m<ipython-input-215-5b6f58680921>\u001b[0m in \u001b[0;36m<module>\u001b[1;34m\u001b[0m\n\u001b[0;32m      3\u001b[0m \u001b[0msns\u001b[0m\u001b[1;33m.\u001b[0m\u001b[0mset\u001b[0m\u001b[1;33m(\u001b[0m\u001b[0mstyle\u001b[0m\u001b[1;33m=\u001b[0m\u001b[1;34m\"whitegrid\"\u001b[0m\u001b[1;33m)\u001b[0m\u001b[1;33m\u001b[0m\u001b[1;33m\u001b[0m\u001b[0m\n\u001b[0;32m      4\u001b[0m \u001b[0mplt\u001b[0m\u001b[1;33m.\u001b[0m\u001b[0mfigure\u001b[0m\u001b[1;33m(\u001b[0m\u001b[0mfigsize\u001b[0m\u001b[1;33m=\u001b[0m\u001b[1;33m(\u001b[0m\u001b[1;36m10\u001b[0m\u001b[1;33m,\u001b[0m\u001b[1;36m8\u001b[0m\u001b[1;33m)\u001b[0m\u001b[1;33m)\u001b[0m\u001b[1;33m\u001b[0m\u001b[1;33m\u001b[0m\u001b[0m\n\u001b[1;32m----> 5\u001b[1;33m \u001b[0mplt\u001b[0m\u001b[1;33m.\u001b[0m\u001b[0mplot\u001b[0m\u001b[1;33m(\u001b[0m\u001b[0mthresholds\u001b[0m\u001b[1;33m,\u001b[0m \u001b[0mfbeta_points\u001b[0m\u001b[1;33m,\u001b[0m \u001b[0mcolor\u001b[0m\u001b[1;33m=\u001b[0m\u001b[1;34m'blue'\u001b[0m\u001b[1;33m,\u001b[0m \u001b[0mlabel\u001b[0m \u001b[1;33m=\u001b[0m \u001b[1;34m'fbeta'\u001b[0m\u001b[1;33m)\u001b[0m \u001b[1;31m#recall_points\u001b[0m\u001b[1;33m\u001b[0m\u001b[1;33m\u001b[0m\u001b[0m\n\u001b[0m\u001b[0;32m      6\u001b[0m \u001b[1;31m#plt.plot(thresholds, balanced_accuracy_points, color='purple', label = \"Balanced Accuracy\")\u001b[0m\u001b[1;33m\u001b[0m\u001b[1;33m\u001b[0m\u001b[1;33m\u001b[0m\u001b[0m\n\u001b[0;32m      7\u001b[0m \u001b[0mplt\u001b[0m\u001b[1;33m.\u001b[0m\u001b[0mtitle\u001b[0m\u001b[1;33m(\u001b[0m\u001b[1;34m'Red Wine Model fbeta Curve'\u001b[0m\u001b[1;33m,\u001b[0m \u001b[0mfontsize\u001b[0m \u001b[1;33m=\u001b[0m\u001b[1;36m20\u001b[0m\u001b[1;33m)\u001b[0m\u001b[1;33m\u001b[0m\u001b[1;33m\u001b[0m\u001b[0m\n",
      "\u001b[1;32mC:\\Tanuj\\lib\\site-packages\\matplotlib\\pyplot.py\u001b[0m in \u001b[0;36mplot\u001b[1;34m(scalex, scaley, data, *args, **kwargs)\u001b[0m\n\u001b[0;32m   2838\u001b[0m \u001b[1;33m@\u001b[0m\u001b[0m_copy_docstring_and_deprecators\u001b[0m\u001b[1;33m(\u001b[0m\u001b[0mAxes\u001b[0m\u001b[1;33m.\u001b[0m\u001b[0mplot\u001b[0m\u001b[1;33m)\u001b[0m\u001b[1;33m\u001b[0m\u001b[1;33m\u001b[0m\u001b[0m\n\u001b[0;32m   2839\u001b[0m \u001b[1;32mdef\u001b[0m \u001b[0mplot\u001b[0m\u001b[1;33m(\u001b[0m\u001b[1;33m*\u001b[0m\u001b[0margs\u001b[0m\u001b[1;33m,\u001b[0m \u001b[0mscalex\u001b[0m\u001b[1;33m=\u001b[0m\u001b[1;32mTrue\u001b[0m\u001b[1;33m,\u001b[0m \u001b[0mscaley\u001b[0m\u001b[1;33m=\u001b[0m\u001b[1;32mTrue\u001b[0m\u001b[1;33m,\u001b[0m \u001b[0mdata\u001b[0m\u001b[1;33m=\u001b[0m\u001b[1;32mNone\u001b[0m\u001b[1;33m,\u001b[0m \u001b[1;33m**\u001b[0m\u001b[0mkwargs\u001b[0m\u001b[1;33m)\u001b[0m\u001b[1;33m:\u001b[0m\u001b[1;33m\u001b[0m\u001b[1;33m\u001b[0m\u001b[0m\n\u001b[1;32m-> 2840\u001b[1;33m     return gca().plot(\n\u001b[0m\u001b[0;32m   2841\u001b[0m         \u001b[1;33m*\u001b[0m\u001b[0margs\u001b[0m\u001b[1;33m,\u001b[0m \u001b[0mscalex\u001b[0m\u001b[1;33m=\u001b[0m\u001b[0mscalex\u001b[0m\u001b[1;33m,\u001b[0m \u001b[0mscaley\u001b[0m\u001b[1;33m=\u001b[0m\u001b[0mscaley\u001b[0m\u001b[1;33m,\u001b[0m\u001b[1;33m\u001b[0m\u001b[1;33m\u001b[0m\u001b[0m\n\u001b[0;32m   2842\u001b[0m         **({\"data\": data} if data is not None else {}), **kwargs)\n",
      "\u001b[1;32mC:\\Tanuj\\lib\\site-packages\\matplotlib\\axes\\_axes.py\u001b[0m in \u001b[0;36mplot\u001b[1;34m(self, scalex, scaley, data, *args, **kwargs)\u001b[0m\n\u001b[0;32m   1741\u001b[0m         \"\"\"\n\u001b[0;32m   1742\u001b[0m         \u001b[0mkwargs\u001b[0m \u001b[1;33m=\u001b[0m \u001b[0mcbook\u001b[0m\u001b[1;33m.\u001b[0m\u001b[0mnormalize_kwargs\u001b[0m\u001b[1;33m(\u001b[0m\u001b[0mkwargs\u001b[0m\u001b[1;33m,\u001b[0m \u001b[0mmlines\u001b[0m\u001b[1;33m.\u001b[0m\u001b[0mLine2D\u001b[0m\u001b[1;33m)\u001b[0m\u001b[1;33m\u001b[0m\u001b[1;33m\u001b[0m\u001b[0m\n\u001b[1;32m-> 1743\u001b[1;33m         \u001b[0mlines\u001b[0m \u001b[1;33m=\u001b[0m \u001b[1;33m[\u001b[0m\u001b[1;33m*\u001b[0m\u001b[0mself\u001b[0m\u001b[1;33m.\u001b[0m\u001b[0m_get_lines\u001b[0m\u001b[1;33m(\u001b[0m\u001b[1;33m*\u001b[0m\u001b[0margs\u001b[0m\u001b[1;33m,\u001b[0m \u001b[0mdata\u001b[0m\u001b[1;33m=\u001b[0m\u001b[0mdata\u001b[0m\u001b[1;33m,\u001b[0m \u001b[1;33m**\u001b[0m\u001b[0mkwargs\u001b[0m\u001b[1;33m)\u001b[0m\u001b[1;33m]\u001b[0m\u001b[1;33m\u001b[0m\u001b[1;33m\u001b[0m\u001b[0m\n\u001b[0m\u001b[0;32m   1744\u001b[0m         \u001b[1;32mfor\u001b[0m \u001b[0mline\u001b[0m \u001b[1;32min\u001b[0m \u001b[0mlines\u001b[0m\u001b[1;33m:\u001b[0m\u001b[1;33m\u001b[0m\u001b[1;33m\u001b[0m\u001b[0m\n\u001b[0;32m   1745\u001b[0m             \u001b[0mself\u001b[0m\u001b[1;33m.\u001b[0m\u001b[0madd_line\u001b[0m\u001b[1;33m(\u001b[0m\u001b[0mline\u001b[0m\u001b[1;33m)\u001b[0m\u001b[1;33m\u001b[0m\u001b[1;33m\u001b[0m\u001b[0m\n",
      "\u001b[1;32mC:\\Tanuj\\lib\\site-packages\\matplotlib\\axes\\_base.py\u001b[0m in \u001b[0;36m__call__\u001b[1;34m(self, data, *args, **kwargs)\u001b[0m\n\u001b[0;32m    271\u001b[0m                 \u001b[0mthis\u001b[0m \u001b[1;33m+=\u001b[0m \u001b[0margs\u001b[0m\u001b[1;33m[\u001b[0m\u001b[1;36m0\u001b[0m\u001b[1;33m]\u001b[0m\u001b[1;33m,\u001b[0m\u001b[1;33m\u001b[0m\u001b[1;33m\u001b[0m\u001b[0m\n\u001b[0;32m    272\u001b[0m                 \u001b[0margs\u001b[0m \u001b[1;33m=\u001b[0m \u001b[0margs\u001b[0m\u001b[1;33m[\u001b[0m\u001b[1;36m1\u001b[0m\u001b[1;33m:\u001b[0m\u001b[1;33m]\u001b[0m\u001b[1;33m\u001b[0m\u001b[1;33m\u001b[0m\u001b[0m\n\u001b[1;32m--> 273\u001b[1;33m             \u001b[1;32myield\u001b[0m \u001b[1;32mfrom\u001b[0m \u001b[0mself\u001b[0m\u001b[1;33m.\u001b[0m\u001b[0m_plot_args\u001b[0m\u001b[1;33m(\u001b[0m\u001b[0mthis\u001b[0m\u001b[1;33m,\u001b[0m \u001b[0mkwargs\u001b[0m\u001b[1;33m)\u001b[0m\u001b[1;33m\u001b[0m\u001b[1;33m\u001b[0m\u001b[0m\n\u001b[0m\u001b[0;32m    274\u001b[0m \u001b[1;33m\u001b[0m\u001b[0m\n\u001b[0;32m    275\u001b[0m     \u001b[1;32mdef\u001b[0m \u001b[0mget_next_color\u001b[0m\u001b[1;33m(\u001b[0m\u001b[0mself\u001b[0m\u001b[1;33m)\u001b[0m\u001b[1;33m:\u001b[0m\u001b[1;33m\u001b[0m\u001b[1;33m\u001b[0m\u001b[0m\n",
      "\u001b[1;32mC:\\Tanuj\\lib\\site-packages\\matplotlib\\axes\\_base.py\u001b[0m in \u001b[0;36m_plot_args\u001b[1;34m(self, tup, kwargs)\u001b[0m\n\u001b[0;32m    397\u001b[0m \u001b[1;33m\u001b[0m\u001b[0m\n\u001b[0;32m    398\u001b[0m         \u001b[1;32mif\u001b[0m \u001b[0mx\u001b[0m\u001b[1;33m.\u001b[0m\u001b[0mshape\u001b[0m\u001b[1;33m[\u001b[0m\u001b[1;36m0\u001b[0m\u001b[1;33m]\u001b[0m \u001b[1;33m!=\u001b[0m \u001b[0my\u001b[0m\u001b[1;33m.\u001b[0m\u001b[0mshape\u001b[0m\u001b[1;33m[\u001b[0m\u001b[1;36m0\u001b[0m\u001b[1;33m]\u001b[0m\u001b[1;33m:\u001b[0m\u001b[1;33m\u001b[0m\u001b[1;33m\u001b[0m\u001b[0m\n\u001b[1;32m--> 399\u001b[1;33m             raise ValueError(f\"x and y must have same first dimension, but \"\n\u001b[0m\u001b[0;32m    400\u001b[0m                              f\"have shapes {x.shape} and {y.shape}\")\n\u001b[0;32m    401\u001b[0m         \u001b[1;32mif\u001b[0m \u001b[0mx\u001b[0m\u001b[1;33m.\u001b[0m\u001b[0mndim\u001b[0m \u001b[1;33m>\u001b[0m \u001b[1;36m2\u001b[0m \u001b[1;32mor\u001b[0m \u001b[0my\u001b[0m\u001b[1;33m.\u001b[0m\u001b[0mndim\u001b[0m \u001b[1;33m>\u001b[0m \u001b[1;36m2\u001b[0m\u001b[1;33m:\u001b[0m\u001b[1;33m\u001b[0m\u001b[1;33m\u001b[0m\u001b[0m\n",
      "\u001b[1;31mValueError\u001b[0m: x and y must have same first dimension, but have shapes (100,) and (178,)"
     ]
    },
    {
     "data": {
      "image/png": "[encoded data removed]",
      "text/plain": [
       "<Figure size 720x576 with 1 Axes>"
      ]
     },
     "metadata": {},
     "output_type": "display_data"
    }
   ],
   "source": [
    "# Generate a figure showing variation in fbeta scores along with threshold values\n",
    "\n",
    "sns.set(style=\"whitegrid\")\n",
    "plt.figure(figsize=(10,8))\n",
    "plt.plot(thresholds, fbeta_points, color='blue', label = 'fbeta') #recall_points\n",
    "#plt.plot(thresholds, balanced_accuracy_points, color='purple', label = \"Balanced Accuracy\")\n",
    "plt.title('Red Wine Model fbeta Curve', fontsize =20)\n",
    "plt.legend('fbeta')\n",
    "plt.xlabel('Threshold', fontsize = 16)\n",
    "plt.axvline(x=.58, color='red') # check for value\n",
    "plt.text(.54,.53,'Optimal Threshold for fbeta: 0.50 ',rotation=90, fontsize = 16)\n",
    "#plt.axvline(x=.5, color='black') # check for value\n",
    "#plt.text(.48,.73,'Optimal Threshold Balanced Acc.',rotation=90)\n",
    "plt.ylabel('fbeta Score', fontsize = 16)\n",
    "plt.legend(loc='upper left', fontsize  = 16)\n",
    "plt.savefig('fbeta_curve.png')\n",
    "plt.show()\n",
    "\n",
    "# Reference: https://github.com/sdesaidata/Springboard/blob/master/Capstone1_Beer_Rating_Predictor/MachineLearning.ipynb "
   ]
  },
  {
   "cell_type": "code",
   "execution_count": 201,
   "id": "da33858d",
   "metadata": {},
   "outputs": [],
   "source": []
  },
  {
   "cell_type": "code",
   "execution_count": 205,
   "id": "930c7e1c",
   "metadata": {},
   "outputs": [
    {
     "name": "stdout",
     "output_type": "stream",
     "text": [
      "The largest f1 score of 0.6667 occurs at a threshold value of: 0.29\n"
     ]
    }
   ],
   "source": []
  },
  {
   "cell_type": "code",
   "execution_count": 206,
   "id": "0d39bf3d",
   "metadata": {},
   "outputs": [
    {
     "name": "stdout",
     "output_type": "stream",
     "text": [
      "Classification Report for Business Scenario Three :\n",
      "               precision    recall  f1-score   support\n",
      "\n",
      "           0       0.97      0.90      0.93       415\n",
      "           1       0.56      0.83      0.67        65\n",
      "\n",
      "    accuracy                           0.89       480\n",
      "   macro avg       0.76      0.86      0.80       480\n",
      "weighted avg       0.92      0.89      0.90       480\n",
      "\n",
      "Confusion Matrix for Business Scenario Three:\n",
      " [[372  43]\n",
      " [ 11  54]]\n"
     ]
    }
   ],
   "source": []
  },
  {
   "cell_type": "code",
   "execution_count": 198,
   "id": "e7c0557b",
   "metadata": {},
   "outputs": [],
   "source": []
  },
  {
   "cell_type": "code",
   "execution_count": 207,
   "id": "7ff1659b",
   "metadata": {},
   "outputs": [
    {
     "data": {
      "image/png": "[encoded data removed]",
      "text/plain": [
       "<Figure size 720x576 with 1 Axes>"
      ]
     },
     "metadata": {},
     "output_type": "display_data"
    }
   ],
   "source": []
  },
  {
   "cell_type": "markdown",
   "id": "3d0c59f5",
   "metadata": {},
   "source": [
    "# Business Scenario Two: Maximize the Red Wine Mode's predictions, by minimizing False Positives and False Negatives\n"
   ]
  },
  {
   "cell_type": "code",
   "execution_count": 177,
   "id": "8f76d19f",
   "metadata": {},
   "outputs": [],
   "source": [
    "# Adjust class predictions based on the prediction threshold (t)\n",
    "\n",
    "def adjusted_classes(RF_y_pred, t):\n",
    "    \n",
    "    return [1 if y >= t else 0 for y in RF_y_pred]\n",
    "\n",
    "# Reference: https://towardsdatascience.com/fine-tuning-a-classifier-in-scikit-learn-66e048c21e65\n",
    "# Reference: https://github.com/sdesaidata/Springboard/blob/master/Capstone1_Beer_Rating_Predictor/MachineLearning.ipynb"
   ]
  },
  {
   "cell_type": "code",
   "execution_count": null,
   "id": "7f9b5943",
   "metadata": {},
   "outputs": [],
   "source": []
  },
  {
   "cell_type": "code",
   "execution_count": 209,
   "id": "b767def2",
   "metadata": {},
   "outputs": [
    {
     "data": {
      "text/plain": [
       "0.9145833333333333"
      ]
     },
     "execution_count": 209,
     "metadata": {},
     "output_type": "execute_result"
    }
   ],
   "source": [
    "# Calculate accuracy score based on the default threshold = 0.5\n",
    "\n",
    "accuracy_score(y_test, RF_y_pred_binary)\n",
    "\n",
    "# Reference: https://scikit-learn.org/stable/modules/generated/sklearn.metrics.accuracy_score.html"
   ]
  },
  {
   "cell_type": "code",
   "execution_count": 210,
   "id": "095cf2ed",
   "metadata": {},
   "outputs": [
    {
     "data": {
      "text/plain": [
       "0.7819277108433735"
      ]
     },
     "execution_count": 210,
     "metadata": {},
     "output_type": "execute_result"
    }
   ],
   "source": [
    "# Calculate balanced accuracy score based on the default threshold = 0.5\n",
    "\n",
    "balanced_accuracy_score(y_test, RF_y_pred_binary)\n",
    "\n",
    "# Reference: https://scikit-learn.org/stable/modules/generated/sklearn.metrics.balanced_accuracy_score.html"
   ]
  },
  {
   "cell_type": "code",
   "execution_count": 180,
   "id": "e7ac73f5",
   "metadata": {},
   "outputs": [],
   "source": [
    "# Return evenly spaced array of values for testing accuracy and balanced accuracy values at different thresholds\n",
    "\n",
    "thresholds=np.arange(0,1,.01)\n",
    "\n",
    "# Reference: https://docs.scipy.org/doc/numpy/reference/generated/numpy.arange.html"
   ]
  },
  {
   "cell_type": "code",
   "execution_count": 182,
   "id": "a1a354c1",
   "metadata": {},
   "outputs": [],
   "source": [
    "# Generate an array of sarcasm probability scores for each tweet\n",
    "\n",
    "RF_y_pred = RF.predict_proba(X_test)[:,1]\n",
    "\n",
    "# Reference: https://scikit-learn.org/stable/modules/generated/sklearn.linear_model.LogisticRegression.html#sklearn.linear_model.LogisticRegression.predict_proba"
   ]
  },
  {
   "cell_type": "code",
   "execution_count": 183,
   "id": "2ef79f08",
   "metadata": {},
   "outputs": [
    {
     "name": "stdout",
     "output_type": "stream",
     "text": [
      "The largest Accuracy Score of 0.9125 occurs at a threshold value of: 0.54\n"
     ]
    }
   ],
   "source": [
    "# Identify the threshold associated with the largest accuracy score\n",
    "\n",
    "# Initialize an empty list to store accuracy scores\n",
    "accuracy_points = []\n",
    "# Define the starting largest score\n",
    "largest_score = 0\n",
    "\n",
    "# Loop through the array of theshold values to test\n",
    "for t in thresholds:\n",
    "    # Assign new classes based on the new threshold\n",
    "    adjusted_y_pred = adjusted_classes(RF_y_pred, t=t)\n",
    "    # Calculate the new accuracy score based on the new assignments for the new threshold\n",
    "    new_balance = accuracy_score(y_test, adjusted_y_pred)\n",
    "    # Append the new accuracy score to the list\n",
    "    accuracy_points.append(new_balance)\n",
    "    # Determine if the new accuracy score is the largest, and if so assign the score and threshold\n",
    "    if new_balance > largest_score:\n",
    "        largest_score = new_balance\n",
    "        thresh = t\n",
    "        #print(largest_score,thresh)\n",
    "print(\"The largest Accuracy Score of\",round((largest_score),4),\"occurs at a threshold value of:\",thresh)    \n",
    "        \n",
    "# Reference: https://github.com/sdesaidata/Springboard/blob/master/Capstone1_Beer_Rating_Predictor/MachineLearning.ipynb     "
   ]
  },
  {
   "cell_type": "code",
   "execution_count": 184,
   "id": "a1577d05",
   "metadata": {},
   "outputs": [
    {
     "name": "stdout",
     "output_type": "stream",
     "text": [
      "The largest Balanced Accuracy Score of 0.8748 occurs at a threshold value of: 0.19\n"
     ]
    }
   ],
   "source": [
    "# Identify the threshold associated with the largest balanced accuracy score\n",
    "\n",
    "# Initialize an empty list to store balanced accuracy scores\n",
    "balanced_accuracy_points = []\n",
    "# Define the starting largest score\n",
    "largest_score = 0\n",
    "\n",
    "# Loop through the array of theshold values to test\n",
    "for t in thresholds:\n",
    "    # Assign new classes based on the new threshold\n",
    "    adjusted_y_pred = adjusted_classes(RF_y_pred, t=t)\n",
    "    # Calculate the new accuracy score based on the new assignments for the new threshold\n",
    "    new_balance = balanced_accuracy_score(y_test, adjusted_y_pred)\n",
    "    # Append the new accuracy score to the list\n",
    "    balanced_accuracy_points.append(new_balance)\n",
    "    # Determine if the new accuracy score is the largest, and if so assign the score and threshold\n",
    "    if new_balance > largest_score:\n",
    "        largest_score = new_balance\n",
    "        thresh = t\n",
    "        #print(largest_score,thresh)\n",
    "print(\"The largest Balanced Accuracy Score of\",round((largest_score),4),\"occurs at a threshold value of:\",thresh)   \n",
    "\n",
    "# Reference: https://github.com/sdesaidata/Springboard/blob/master/Capstone1_Beer_Rating_Predictor/MachineLearning.ipynb        \n",
    "            "
   ]
  },
  {
   "cell_type": "code",
   "execution_count": 214,
   "id": "16b34722",
   "metadata": {},
   "outputs": [
    {
     "data": {
      "image/png": "[encoded data removed]",
      "text/plain": [
       "<Figure size 720x576 with 1 Axes>"
      ]
     },
     "metadata": {},
     "output_type": "display_data"
    }
   ],
   "source": [
    "# Generate a figure showing variation in accuracy and balanced accuracy along with threshold values\n",
    "\n",
    "sns.set(style=\"whitegrid\")\n",
    "plt.figure(figsize=(10,8))\n",
    "plt.plot(thresholds, accuracy_points, color='orange', label = 'Accuracy')\n",
    "plt.plot(thresholds, balanced_accuracy_points, color='purple', label = \"Balanced Accuracy\")\n",
    "plt.title('Red Wine Model Accuracy Curves', fontsize =20)\n",
    "plt.legend(('Accuracy', 'Balanced Accuracy'))\n",
    "plt.xlabel('Threshold', fontsize = 16)\n",
    "plt.axvline(x=.54, color='red') # check for value\n",
    "plt.text(.49,.15,'Threshold for Maximum Accuracy Score: 0.54',rotation=90, fontsize = 14)\n",
    "plt.axvline(x=.19, color='black') # check for value\n",
    "plt.text(.22,.15,'Threshold for Maximum Balanced Accuracy Score: 0.19',rotation=90, fontsize=14)\n",
    "plt.ylabel('Score', fontsize = 16)\n",
    "plt.legend(loc='best', fontsize  = 14)\n",
    "plt.savefig('accuracy_curves.png')\n",
    "plt.show()\n",
    "\n",
    "# Reference: https://github.com/sdesaidata/Springboard/blob/master/Capstone1_Beer_Rating_Predictor/MachineLearning.ipynb        "
   ]
  },
  {
   "cell_type": "code",
   "execution_count": 197,
   "id": "c85cb49f",
   "metadata": {},
   "outputs": [
    {
     "name": "stdout",
     "output_type": "stream",
     "text": [
      "Highest Accuracy:  0.9125\n",
      "[[401  14]\n",
      " [ 28  37]]\n",
      "\n",
      "Highest Balanced Accuracy:  0.8747914735866543\n",
      "[[343  72]\n",
      " [  5  60]]\n"
     ]
    }
   ],
   "source": [
    "print('Highest Accuracy: ', accuracy_points[54])\n",
    "adjusted_y_pred = adjusted_classes(RF_y_pred, t=.54)\n",
    "print(metrics.confusion_matrix(y_test, adjusted_y_pred))\n",
    "\n",
    "print('\\nHighest Balanced Accuracy: ', balanced_accuracy_points[19])\n",
    "adjusted_y_pred = adjusted_classes(RF_y_pred, t=.19)\n",
    "print(metrics.confusion_matrix(y_test, adjusted_y_pred))\n"
   ]
  },
  {
   "cell_type": "markdown",
   "id": "bef07747",
   "metadata": {},
   "source": [
    "When applying the model on new alcohol with new feature data, you want the model to be as accurate as possible. To determine this I gauged the model using accuracy and confusion matrices. I wanted the least number of mispredictions (false negatives, false positives). The threshold level of .54 provides the best results with an accuary of .9125. in total there are 42 mispredictions. 28 False Negatives and 14 False positives.\n",
    "\n",
    "However, a point of emphasis to be made is that balanced accuracy is a more appropriate metric for this because the data is unbalanced. For this reason if you'd like a predictor that overall performs better based on the unbalanced data, you should stick to the 0.5 threshold.\n",
    "\n"
   ]
  },
  {
   "cell_type": "code",
   "execution_count": null,
   "id": "6a3c6c1a",
   "metadata": {},
   "outputs": [],
   "source": []
  }
 ],
 "metadata": {
  "kernelspec": {
   "display_name": "Python 3",
   "language": "python",
   "name": "python3"
  },
  "language_info": {
   "codemirror_mode": {
    "name": "ipython",
    "version": 3
   },
   "file_extension": ".py",
   "mimetype": "text/x-python",
   "name": "python",
   "nbconvert_exporter": "python",
   "pygments_lexer": "ipython3",
   "version": "3.8.8"
  }
 },
 "nbformat": 4,
 "nbformat_minor": 5
}
